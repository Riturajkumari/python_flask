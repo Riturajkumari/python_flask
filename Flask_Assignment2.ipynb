{
  "nbformat": 4,
  "nbformat_minor": 0,
  "metadata": {
    "colab": {
      "provenance": [],
      "authorship_tag": "ABX9TyPKLMnkgARny94DkZR0pd8P",
      "include_colab_link": true
    },
    "kernelspec": {
      "name": "python3",
      "display_name": "Python 3"
    },
    "language_info": {
      "name": "python"
    }
  },
  "cells": [
    {
      "cell_type": "markdown",
      "metadata": {
        "id": "view-in-github",
        "colab_type": "text"
      },
      "source": [
        "<a href=\"https://colab.research.google.com/github/Riturajkumari/python_flask/blob/main/Flask_Assignment2.ipynb\" target=\"_parent\"><img src=\"https://colab.research.google.com/assets/colab-badge.svg\" alt=\"Open In Colab\"/></a>"
      ]
    },
    {
      "cell_type": "markdown",
      "source": [
        "**Q1. Explain GET and POST methods.**"
      ],
      "metadata": {
        "id": "XO0Y6TuPYtRm"
      }
    },
    {
      "cell_type": "markdown",
      "source": [
        "- HTTP GET: The Hypertext Transfer Protocol(HTTP) Get method is mainly used at the client (Browser) side to send a request to a specified server to get certain data or resources. Using this method the server should only let us receive the data and not change its state.\n",
        "- Hence it is only used to view something and not to change it. Get method is one of the most used HTTP method.\n",
        "- The request parameter of the get method is appended to the URL.\n",
        "- Get request is better for the data which does not need to be secure (It means the data which does not contain images or word documents)."
      ],
      "metadata": {
        "id": "sf4FMBUe0ct5"
      }
    },
    {
      "cell_type": "markdown",
      "source": [
        "- HTTP POST: The Hypertext Transfer Protocol(HTTP) Post method is mainly used at the client (Browser) side to send data to a Specified server in order to create or rewrite a particular resource/data.\n",
        "- This data sent to the server is stored in the request body of the HTTP request.\n",
        "- Post method eventually leads to the creation of a new resource or updating an existing one.\n",
        "- Due to this dynamic use, it is one of the most used HTTP methods.\n",
        "- It is not one of the most secure methods because the data that is been sent is included in the body of the request and not in the URL. Post request is better for the data which needs to be secure (It means the data which contains images or word documents)."
      ],
      "metadata": {
        "id": "CVABByHx0uxJ"
      }
    },
    {
      "cell_type": "code",
      "source": [],
      "metadata": {
        "id": "r-xwmqqJYsZR"
      },
      "execution_count": null,
      "outputs": []
    },
    {
      "cell_type": "markdown",
      "source": [
        "**Q2. Why is request used in Flask?**"
      ],
      "metadata": {
        "id": "NlJBWlZOYyjt"
      }
    },
    {
      "cell_type": "markdown",
      "source": [
        "- The Request, in Flask, is an object that contains all the data sent from the Client to Server.\n",
        "- This data can be recovered using the GET/POST Methods.\n",
        "- POST is used when your application expects user input to be received by command or an HTTP request, while GET gets all the information before it even has a chance for submission.\n",
        "- Using both methods at once gives perfect freedom but still requires complex UI patterns like AJAX calls etc, with most common applications being frameworks where multiple forms are necessary such as Slack Webhooks, MailgunMailserver, and eCommerce Commerce Framework. With Flask-Request class instead, we don’t have any need anymore since this API allows us flexible handling of many other situations."
      ],
      "metadata": {
        "id": "pJ5P7mUQ1bMa"
      }
    },
    {
      "cell_type": "code",
      "source": [],
      "metadata": {
        "id": "rSUrzkP_Y3CP"
      },
      "execution_count": null,
      "outputs": []
    },
    {
      "cell_type": "markdown",
      "source": [
        "**Q3. Why is redirect() used in Flask?**"
      ],
      "metadata": {
        "id": "o84aPce7Y3Oy"
      }
    },
    {
      "cell_type": "markdown",
      "source": [
        "- redirect() is a function in Flask that allows you to send the user to another URL with a specified status code. It is useful for handling errors, authentication, or other situations where you want to change the URL of the user’s request. For example, you can use redirect() to send the user to a login page if they are not authenticated."
      ],
      "metadata": {
        "id": "oo4cw_oS2A5w"
      }
    },
    {
      "cell_type": "code",
      "source": [],
      "metadata": {
        "id": "MKaheZIxY5q5"
      },
      "execution_count": null,
      "outputs": []
    },
    {
      "cell_type": "markdown",
      "source": [
        "**Q4. What are templates in Flask? Why is the render_template() function used?**"
      ],
      "metadata": {
        "id": "-ps0sFa9Y529"
      }
    },
    {
      "cell_type": "markdown",
      "source": [
        "- Flask is a backend web framework based on the Python programming language. It basically allows the creation of web applications in a Pythonic syntax and concepts. With Flask, we can use Python libraries and tools in our web applications."
      ],
      "metadata": {
        "id": "X0uUm-TI2pKf"
      }
    },
    {
      "cell_type": "markdown",
      "source": [
        "-  They are used to create web pages that can change according to the user input or the server data. The render_template() function is used to select a template file and pass any values or variables it needs to render the final document."
      ],
      "metadata": {
        "id": "aSLqkHXA2w2g"
      }
    },
    {
      "cell_type": "code",
      "source": [
        "from flask import Flask, render_template\n",
        "\n",
        "app = Flask(__name__)\n",
        "\n",
        "\n",
        "@app.route(\"/\")\n",
        "def index():\n",
        "\treturn render_template(\"index.html\")\n",
        "\n",
        "if __name__ == \"__main__\":\n",
        "\tapp.run()\n"
      ],
      "metadata": {
        "colab": {
          "base_uri": "https://localhost:8080/"
        },
        "id": "U8YWerH8Y9bS",
        "outputId": "67cc8e2f-6b5e-4c6f-f03f-ce7e3e334193"
      },
      "execution_count": null,
      "outputs": [
        {
          "metadata": {
            "tags": null
          },
          "name": "stdout",
          "output_type": "stream",
          "text": [
            " * Serving Flask app '__main__'\n",
            " * Debug mode: off\n"
          ]
        },
        {
          "metadata": {
            "tags": null
          },
          "name": "stderr",
          "output_type": "stream",
          "text": [
            "INFO:werkzeug:\u001b[31m\u001b[1mWARNING: This is a development server. Do not use it in a production deployment. Use a production WSGI server instead.\u001b[0m\n",
            " * Running on http://127.0.0.1:5000\n",
            "INFO:werkzeug:\u001b[33mPress CTRL+C to quit\u001b[0m\n"
          ]
        }
      ]
    },
    {
      "cell_type": "code",
      "source": [],
      "metadata": {
        "id": "em1ScODgY-Lg"
      },
      "execution_count": null,
      "outputs": []
    },
    {
      "cell_type": "markdown",
      "source": [
        "**Q5. Create a simple API. Use Postman to test it. Attach the screenshot of the output in the Jupyter Notebook.**"
      ],
      "metadata": {
        "id": "GJUQ6EZgY-Z0"
      }
    },
    {
      "cell_type": "markdown",
      "source": [
        "- APIs(Application Programming Interfaces) are very commonly used in development. Postman is a tool that can be used for API Testing."
      ],
      "metadata": {
        "id": "XUwEblae31Rw"
      }
    },
    {
      "cell_type": "code",
      "source": [
        "from flask import Flask, jsonify\n",
        "\n",
        "app = Flask(__name__)\n",
        "\n",
        "@app.route(\"/\")\n",
        "def hello():\n",
        "    return \"Hello, world!\"\n",
        "\n",
        "@app.route(\"/api\")\n",
        "def api():\n",
        "    data = {\"name\": \"Bing\", \"version\": \"1.0\"}\n",
        "    return jsonify(data)\n"
      ],
      "metadata": {
        "id": "gA4Nu-qM30UB"
      },
      "execution_count": null,
      "outputs": []
    },
    {
      "cell_type": "code",
      "source": [],
      "metadata": {
        "id": "P2MO7GEIZCr9"
      },
      "execution_count": null,
      "outputs": []
    }
  ]
}